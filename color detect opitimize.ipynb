{
 "cells": [
  {
   "cell_type": "code",
   "execution_count": 2,
   "metadata": {},
   "outputs": [],
   "source": [
    "import numpy as np\n",
    "import pandas as pd\n",
    "import matplotlib.pyplot as plt\n",
    "import matplotlib.patches as patches\n",
    "import matplotlib.image as mpimg\n",
    "\n",
    "from PIL import Image\n",
    "from matplotlib.offsetbox import OffsetImage, AnnotationBbox"
   ]
  },
  {
   "cell_type": "code",
   "execution_count": 3,
   "metadata": {},
   "outputs": [],
   "source": [
    "import cv2\n",
    "import extcolors\n",
    "\n",
    "from colormap import rgb2hex"
   ]
  },
  {
   "cell_type": "markdown",
   "metadata": {},
   "source": [
    "Resizing the image"
   ]
  },
  {
   "cell_type": "code",
   "execution_count": 4,
   "metadata": {},
   "outputs": [
    {
     "name": "stderr",
     "output_type": "stream",
     "text": [
      "C:\\Users\\levie\\AppData\\Local\\Temp\\ipykernel_5244\\2889926725.py:6: DeprecationWarning: ANTIALIAS is deprecated and will be removed in Pillow 10 (2023-07-01). Use Resampling.LANCZOS instead.\n",
      "  img = img.resize((output_width,hsize), Image.ANTIALIAS)\n"
     ]
    },
    {
     "data": {
      "image/png": "[encoded data removed]",
      "text/plain": [
       "<Figure size 900x900 with 1 Axes>"
      ]
     },
     "metadata": {},
     "output_type": "display_data"
    }
   ],
   "source": [
    "input_name = 'qq.png'\n",
    "output_width = 900                   #set the output size\n",
    "img = Image.open(input_name)\n",
    "wpercent = (output_width/float(img.size[0]))\n",
    "hsize = int((float(img.size[1])*float(wpercent)))\n",
    "img = img.resize((output_width,hsize), Image.ANTIALIAS)\n",
    "\n",
    "#save\n",
    "resize_name = 'resize_' + input_name  #the resized image name\n",
    "img.save(resize_name)                 #output location can be specified before resize_name\n",
    "\n",
    "#read\n",
    "plt.figure(figsize=(9, 9))\n",
    "img_url = resize_name\n",
    "img = plt.imread(img_url)\n",
    "plt.imshow(img)\n",
    "plt.axis('off')\n",
    "plt.show()"
   ]
  },
  {
   "cell_type": "markdown",
   "metadata": {},
   "source": [
    "Color extraction"
   ]
  },
  {
   "cell_type": "code",
   "execution_count": 6,
   "metadata": {},
   "outputs": [
    {
     "data": {
      "text/plain": [
       "([((255, 191, 31), 647856), ((255, 255, 255), 144)], 648000)"
      ]
     },
     "execution_count": 6,
     "metadata": {},
     "output_type": "execute_result"
    }
   ],
   "source": [
    "colors_x = extcolors.extract_from_path(img_url, tolerance = 12, limit = 12)\n",
    "colors_x"
   ]
  },
  {
   "cell_type": "code",
   "execution_count": 7,
   "metadata": {},
   "outputs": [
    {
     "data": {
      "text/html": [
       "<div>\n",
       "<style scoped>\n",
       "    .dataframe tbody tr th:only-of-type {\n",
       "        vertical-align: middle;\n",
       "    }\n",
       "\n",
       "    .dataframe tbody tr th {\n",
       "        vertical-align: top;\n",
       "    }\n",
       "\n",
       "    .dataframe thead th {\n",
       "        text-align: right;\n",
       "    }\n",
       "</style>\n",
       "<table border=\"1\" class=\"dataframe\">\n",
       "  <thead>\n",
       "    <tr style=\"text-align: right;\">\n",
       "      <th></th>\n",
       "      <th>c_code</th>\n",
       "      <th>occurence</th>\n",
       "    </tr>\n",
       "  </thead>\n",
       "  <tbody>\n",
       "    <tr>\n",
       "      <th>0</th>\n",
       "      <td>#FFBF1F</td>\n",
       "      <td>647856</td>\n",
       "    </tr>\n",
       "  </tbody>\n",
       "</table>\n",
       "</div>"
      ],
      "text/plain": [
       "    c_code occurence\n",
       "0  #FFBF1F    647856"
      ]
     },
     "execution_count": 7,
     "metadata": {},
     "output_type": "execute_result"
    }
   ],
   "source": [
    "def color_to_df(input):\n",
    "    colors_pre_list = str(input).replace('([(','').split(', (')[0:-1]\n",
    "    df_rgb = [i.split('), ')[0] + ')' for i in colors_pre_list]\n",
    "    df_percent = [i.split('), ')[1].replace(')','') for i in colors_pre_list]\n",
    "    \n",
    "    #convert RGB to HEX code\n",
    "    df_color_up = [rgb2hex(int(i.split(\", \")[0].replace(\"(\",\"\")),\n",
    "                          int(i.split(\", \")[1]),\n",
    "                          int(i.split(\", \")[2].replace(\")\",\"\"))) for i in df_rgb]\n",
    "    \n",
    "    df = pd.DataFrame(zip(df_color_up, df_percent), columns = ['c_code','occurence'])\n",
    "    return df\n",
    "\n",
    "df_color = color_to_df(colors_x)\n",
    "df_color"
   ]
  },
  {
   "cell_type": "code",
   "execution_count": null,
   "metadata": {},
   "outputs": [],
   "source": []
  }
 ],
 "metadata": {
  "kernelspec": {
   "display_name": "Python 3 (ipykernel)",
   "language": "python",
   "name": "python3"
  },
  "language_info": {
   "codemirror_mode": {
    "name": "ipython",
    "version": 3
   },
   "file_extension": ".py",
   "mimetype": "text/x-python",
   "name": "python",
   "nbconvert_exporter": "python",
   "pygments_lexer": "ipython3",
   "version": "3.9.13"
  },
  "vscode": {
   "interpreter": {
    "hash": "0a92c37f22109beb4128e1cc290058e65f48fba66386b3d02d625151eebcb021"
   }
  }
 },
 "nbformat": 4,
 "nbformat_minor": 2
}
